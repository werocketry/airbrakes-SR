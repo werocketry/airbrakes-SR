{
 "cells": [
  {
   "cell_type": "markdown",
   "metadata": {},
   "source": [
    "note, below values no longer current. leaving it hard coded to show process, and real calcs done inside of flight-simulator folder"
   ]
  },
  {
   "cell_type": "markdown",
   "metadata": {},
   "source": [
    "![static_arm_0deg](static_arm_0deg.png)<br>\n",
    "![static_arm_22deg](static_arm_22deg.png)<br>\n",
    "![static_arm_45deg](static_arm_45deg.png)"
   ]
  },
  {
   "cell_type": "code",
   "execution_count": 16,
   "metadata": {},
   "outputs": [
    {
     "name": "stdout",
     "output_type": "stream",
     "text": [
      "Max applied force:  119.69279100294217 N\n",
      "Resultant x force:  -55.48861166298241 N\n",
      "Resultant y force:  -22.418854347027445 N\n"
     ]
    }
   ],
   "source": [
    "import math\n",
    "\n",
    "account_distribution = True\n",
    "\n",
    "# Given constants\n",
    "max_q = 56.21 # kPa\n",
    "flap_h = 65 # mm\n",
    "flap_w = 35 # mm\n",
    "flap_A = flap_h * flap_w\n",
    "\n",
    "# Conversion factor from kPa to N/mm^2\n",
    "max_q_N = max_q * 0.001\n",
    "\n",
    "# Applied force calculation\n",
    "f_applied_max = max_q_N * flap_A\n",
    "f_applied = f_applied_max * math.sin(45)\n",
    "\n",
    "\n",
    "# Angle of the blue member with the horizontal\n",
    "angle_degrees = 22\n",
    "angle_radians = math.radians(angle_degrees)\n",
    "\n",
    "# Friction coefficient (this is a rough estimate and should be determined experimentally or from literature)\n",
    "friction_coefficient = 0.1  # Typical value for metal on metal contact\n",
    "\n",
    "# Apply the friction coefficient to the force, viewing it as a loss from POV of servo\n",
    "f_applied *= (1 + friction_coefficient)\n",
    "\n",
    "# Recalculate force components considering friction\n",
    "f_applied_x = f_applied * math.cos(angle_radians)\n",
    "f_applied_y = f_applied * math.sin(angle_radians)\n",
    "\n",
    "# The factor for determining where the equivalent applied force is located of the distributed the force along the member DC\n",
    "distribution_factor = 0.5  # Assuming midpoint due to symmetry and results of FEA\n",
    "\n",
    "# Adjust forces at Point C of member DC considering the distribution factor\n",
    "f_applied_DC_cx = -f_applied_x * distribution_factor\n",
    "f_applied_DC_cy = -f_applied_y * distribution_factor\n",
    "\n",
    "# Since the system is symmetric, the forces at Point C of member CB will be the same but in the opposite direction\n",
    "f_applied_CB_cx = -f_applied_DC_cx\n",
    "f_applied_CB_cy = -f_applied_DC_cy\n",
    "\n",
    "# The forces will be the same along the members since they are two-force members in this model\n",
    "f_applied_CB_bx = f_applied_CB_cx\n",
    "f_applied_CB_by = f_applied_CB_cy\n",
    "\n",
    "f_applied_BA_bx = f_applied_CB_bx\n",
    "f_applied_BA_by = f_applied_CB_by\n",
    "\n",
    "# The force at Point A (attachment/contact point on the lead screw)\n",
    "f_x_result = -f_applied_BA_bx\n",
    "f_y_result = -f_applied_BA_by\n",
    "\n",
    "print(\"Max applied force: \", f_applied, \"N\")\n",
    "print(\"Resultant x force: \", f_x_result, \"N\")\n",
    "print(\"Resultant y force: \", f_y_result, \"N\")\n"
   ]
  },
  {
   "cell_type": "markdown",
   "metadata": {},
   "source": [
    "![](https://blog.igus.in/wp-content/uploads/2021/10/efficiencycalculate.jpg)"
   ]
  },
  {
   "cell_type": "code",
   "execution_count": 17,
   "metadata": {},
   "outputs": [
    {
     "name": "stdout",
     "output_type": "stream",
     "text": [
      "Lead screw pitch:  1.5875\n",
      "Lead screw efficiency:  0.262474505690809\n"
     ]
    }
   ],
   "source": [
    "def calculate_lead_screw_efficiency(lead, diameter, coefficient_of_friction, input_unit='imperial'):\n",
    "    \"\"\"\n",
    "    Calculate the efficiency of a lead screw considering different materials for screw and nut.\n",
    "\n",
    "    :param lead: The lead of the screw (distance the nut moves per screw revolution).\n",
    "    :param diameter: The nominal diameter of the screw.\n",
    "    :param coefficient_of_friction: The coefficient of friction between screw and nut materials.\n",
    "    :param input_unit: 'imperial' or 'metric'.\n",
    "    :return: Efficiency of the lead screw.\n",
    "    \"\"\"\n",
    "    # Convert all inputs to imperial units for calculation\n",
    "    if input_unit == 'metric':\n",
    "        lead = lead * 0.0393701  # Convert lead to inches\n",
    "        diameter = diameter * 0.0393701  # Convert diameter to inches\n",
    "\n",
    "    # Calculate pitch diameter, assuming it's close to the nominal diameter\n",
    "    pitch_diameter = diameter\n",
    "\n",
    "    # Calculate the lead angle\n",
    "    lead_angle = math.atan(lead / (math.pi * pitch_diameter))\n",
    "\n",
    "    # Calculate angle of friction\n",
    "    angle_of_friction = math.atan(coefficient_of_friction)\n",
    "\n",
    "    # Calculate efficiency\n",
    "    efficiency = math.tan(lead_angle) / math.tan(lead_angle + angle_of_friction)\n",
    "\n",
    "    return efficiency  # Fractional efficiency\n",
    "\n",
    "def calculate_pitch(threads_per_pitch, input_unit='imperial', output_unit='imperial'):\n",
    "    \"\"\"\n",
    "    Calculate the pitch of a lead screw.\n",
    "\n",
    "    :param threads_per_pitch: Threads per inch if imperial, pitch in mm if metric.\n",
    "    :param input_unit: 'imperial' or 'metric'.\n",
    "    :param output_unit: 'imperial' (threads per inch) or 'metric' (pitch in mm).\n",
    "    :return: Pitch of the lead screw in the desired unit.\n",
    "    \"\"\"\n",
    "    if input_unit == 'imperial':\n",
    "        if output_unit == 'metric':\n",
    "            # Convert threads per inch to pitch in mm (1 inch = 25.4 mm)\n",
    "            pitch = 25.4 / threads_per_pitch\n",
    "        else:\n",
    "            pitch = threads_per_pitch  # Already in threads per inch\n",
    "    else:  # input is metric\n",
    "        if output_unit == 'imperial':\n",
    "            # Convert pitch in mm to threads per inch (1 inch = 25.4 mm)\n",
    "            pitch = 25.4 / threads_per_pitch\n",
    "        else:\n",
    "            pitch = threads_per_pitch  # Already in mm\n",
    "\n",
    "    return pitch\n",
    "\n",
    "# From : https://www.mcmaster.com/95075A340/ (PET Plastic Externally Threaded Precision Acme Nut)\n",
    "coefficient_of_friction = 0.22  # Estimated for steel on PET plastic\n",
    "# from: https://www.mcmaster.com/99030A985/ (1/4 20 1018 Carbon Steel Precision Acme Lead Screw)\n",
    "\n",
    "'''\n",
    "lead = 0.05 # imperial\n",
    "diameter = 0.25 # imperial\n",
    "threads_per_pitch = 20 # imperial\n",
    "'''\n",
    "# from: https://www.mcmaster.com/99030A981/ (1/4 16 1018 Carbon Steel Precision Acme Lead Screw)\n",
    "lead = 0.063 # imperial\n",
    "diameter = 0.25 # imperial\n",
    "threads_per_pitch = 16 # imperial\n",
    "\n",
    "\n",
    "lead_screw_pitch = calculate_pitch(threads_per_pitch, input_unit='imperial', output_unit='metric')\n",
    "print(\"Lead screw pitch: \", lead_screw_pitch)\n",
    "lead_screw_efficiency = calculate_lead_screw_efficiency(lead, diameter, coefficient_of_friction, 'imperial')\n",
    "print(\"Lead screw efficiency: \", lead_screw_efficiency)"
   ]
  },
  {
   "cell_type": "markdown",
   "metadata": {},
   "source": [
    "![Lead Screw Nut Torque](https://dev.nookindustries.com/media/3266/5ds.png)"
   ]
  },
  {
   "cell_type": "code",
   "execution_count": 18,
   "metadata": {},
   "outputs": [
    {
     "name": "stdout",
     "output_type": "stream",
     "text": [
      "0.5013284506235318 kg-cm\n",
      "0.034537953839794695 kg-cm\n"
     ]
    }
   ],
   "source": [
    "def calculate_driving_torque(load, lead, efficiency):\n",
    "    \"\"\"\n",
    "    Calculate the driving torque for a screw.\n",
    "    \n",
    "    Parameters:\n",
    "    load (float): The load in pounds (lb).\n",
    "    lead (float): The screw lead in inches/turn.\n",
    "    efficiency (float): The efficiency of the screw.\n",
    "    \n",
    "    Returns:\n",
    "    float: The driving torque in pound-inches.\n",
    "    \"\"\"\n",
    "    return (load * lead) / (2 * math.pi * efficiency)\n",
    "\n",
    "def calculate_holding_torque(load, lead, efficiency):\n",
    "    \"\"\"\n",
    "    Calculate the holding torque for a screw.\n",
    "    \n",
    "    Parameters:\n",
    "    load (float): The load in pounds (lb).\n",
    "    lead (float): The screw lead in inches/turn.\n",
    "    efficiency (float): The efficiency of the screw.\n",
    "    \n",
    "    Returns:\n",
    "    float: The holding torque in pound-inches.\n",
    "    \"\"\"\n",
    "    return (load * lead * efficiency) / (2 * math.pi)\n",
    "\n",
    "def pound_inches_to_kg_cm(pound_inches):\n",
    "    \"\"\"\n",
    "    Convert pound-inches to kilogram-centimeters.\n",
    "    \n",
    "    Parameters:\n",
    "    pound_inches (float): The torque in pound-inches.\n",
    "    \n",
    "    Returns:\n",
    "    float: The torque in kilogram-centimeters.\n",
    "    \"\"\"\n",
    "    conversion_factor = 0.86796165979664\n",
    "    return pound_inches * conversion_factor\n",
    "\n",
    "def kg_cm_to_pound_inches(kg_cm):\n",
    "    \"\"\"\n",
    "    Convert kilogram-centimeters to pound-inches.\n",
    "    \n",
    "    Parameters:\n",
    "    kg_cm (float): The torque in kilogram-centimeters.\n",
    "    \n",
    "    Returns:\n",
    "    float: The torque in pound-inches.\n",
    "    \"\"\"\n",
    "    conversion_factor = 0.86796165979664\n",
    "    return kg_cm / conversion_factor\n",
    "\n",
    "# Example usage:\n",
    "load = abs(f_y_result) * 3\n",
    "load_lbs = load / 4.4482216\n",
    "\n",
    "# Calculate torques\n",
    "driving_torque = calculate_driving_torque(load_lbs, lead, lead_screw_efficiency)\n",
    "holding_torque = calculate_holding_torque(load_lbs, lead, lead_screw_efficiency)\n",
    "print(pound_inches_to_kg_cm(driving_torque), \"kg-cm\")\n",
    "print(pound_inches_to_kg_cm(holding_torque), \"kg-cm\")"
   ]
  }
 ],
 "metadata": {
  "kernelspec": {
   "display_name": "Python 3",
   "language": "python",
   "name": "python3"
  },
  "language_info": {
   "codemirror_mode": {
    "name": "ipython",
    "version": 3
   },
   "file_extension": ".py",
   "mimetype": "text/x-python",
   "name": "python",
   "nbconvert_exporter": "python",
   "pygments_lexer": "ipython3",
   "version": "3.11.4"
  }
 },
 "nbformat": 4,
 "nbformat_minor": 2
}
