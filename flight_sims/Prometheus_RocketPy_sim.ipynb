{
 "cells": [
  {
   "cell_type": "code",
   "execution_count": null,
   "metadata": {},
   "outputs": [],
   "source": [
    "# Importing libraries\n",
    "import matplotlib.pyplot as plt\n",
    "import numpy as np\n",
    "from configs import Prometheus, Prometheus_launch_conditions\n",
    "from rocketpy import Environment, Flight, Rocket, SolidMotor, GenericMotor"
   ]
  },
  {
   "cell_type": "markdown",
   "metadata": {},
   "source": [
    "## RocketPy Simulation\n"
   ]
  },
  {
   "cell_type": "markdown",
   "metadata": {},
   "source": [
    "### Environment\n"
   ]
  },
  {
   "cell_type": "code",
   "execution_count": null,
   "metadata": {},
   "outputs": [],
   "source": [
    "# Environment conditions\n",
    "env = Environment(\n",
    "    latitude=32.99028,\n",
    "    longitude=-106.96972,\n",
    "    date=(2022, 6, 24, 13),\n",
    "    elevation=1401\n",
    ")\n",
    "# may want to add wind\n",
    "env.set_atmospheric_model(\n",
    "    type=\"standard_atmosphere\" #TBU\n",
    ")"
   ]
  },
  {
   "cell_type": "code",
   "execution_count": null,
   "metadata": {},
   "outputs": [],
   "source": [
    "env.info()"
   ]
  },
  {
   "cell_type": "markdown",
   "metadata": {},
   "source": [
    "### Motor\n"
   ]
  },
  {
   "cell_type": "code",
   "execution_count": null,
   "metadata": {},
   "outputs": [],
   "source": [
    "thrust_dict = Prometheus.motor.thrust_curve\n",
    "def thrust_curve(t):\n",
    "    time_list = list(thrust_dict.keys())\n",
    "    thrust_list = list(thrust_dict.values())\n",
    "    if t < time_list[0]:\n",
    "        return thrust_list[0]\n",
    "    elif t > time_list[-1]:\n",
    "        return 0\n",
    "    else:\n",
    "        return np.interp(t, time_list, thrust_list)\n",
    "\n",
    "# rocket: nose_to_tail\n",
    "motor_M1520 = SolidMotor( # TODO: convert to GenericMotor\n",
    "    thrust_source=thrust_curve,\n",
    "    burn_time=Prometheus.motor.burn_time,\n",
    "    dry_mass=Prometheus.motor.dry_mass,\n",
    "    dry_inertia=(0, 0, 0),\n",
    "    center_of_dry_mass_position= 0.274, # half of the motor length\n",
    "    grains_center_of_mass_position= 0.274, # half of the motor length\n",
    "\n",
    "    grain_number=1,#TBU, just picked to give correct mass\n",
    "    grain_separation=0,#TBU\n",
    "    grain_density=2420,#TBU, just picked to give correct mass\n",
    "    grain_outer_radius=0.033,#TBU\n",
    "    grain_initial_inner_radius=0.015,#TBU\n",
    "    grain_initial_height=0.57,#TBU, just picked to give correct mass\n",
    "\n",
    "    nozzle_radius=0.02475,#TBU\n",
    "    interpolation_method=\"linear\", # the default\n",
    ")"
   ]
  },
  {
   "cell_type": "code",
   "execution_count": null,
   "metadata": {},
   "outputs": [],
   "source": [
    "motor_M1520.plots.draw()\n",
    "motor_M1520.info()"
   ]
  },
  {
   "cell_type": "markdown",
   "metadata": {},
   "source": [
    "### Rocket\n"
   ]
  },
  {
   "cell_type": "markdown",
   "metadata": {},
   "source": [
    "Create the `Rocket` object\n"
   ]
  },
  {
   "cell_type": "code",
   "execution_count": null,
   "metadata": {},
   "outputs": [],
   "source": [
    "Prometheus_RP = Rocket(\n",
    "    radius = 0.06985, # 5.5\" diameter circle\n",
    "    mass = Prometheus.rocket_mass,\n",
    "    inertia=(#TBU\n",
    "        73.316,#TBU\n",
    "        73.316,#TBU\n",
    "        0.15982,#TBU\n",
    "    ),\n",
    "    power_off_drag=Prometheus.Cd_rocket_at_Ma,\n",
    "    power_on_drag=Prometheus.Cd_rocket_at_Ma,\n",
    "    center_of_mass_without_motor=1.3,#TBU\n",
    "    coordinate_system_orientation=\"tail_to_nose\",\n",
    ")\n",
    "\n",
    "Prometheus_RP.set_rail_buttons(0.69, 0.21, 60)\n",
    "\n",
    "Prometheus_RP.add_motor(motor=motor_M1520, position=0)"
   ]
  },
  {
   "cell_type": "markdown",
   "metadata": {},
   "source": [
    "Add aerodynamic surfaces\n"
   ]
  },
  {
   "cell_type": "code",
   "execution_count": null,
   "metadata": {},
   "outputs": [],
   "source": [
    "nose_cone = Prometheus_RP.add_nose(\n",
    "    length=0.742, # measure and update\n",
    "    kind=\"Von Karman\",\n",
    "    position=2.229\n",
    ")\n",
    "\n",
    "fin_set = Prometheus_RP.add_trapezoidal_fins(\n",
    "    3,\n",
    "    span=0.14, #TBU - measure on rocket\n",
    "    root_chord=0.331, #TBU - measure on rocket\n",
    "    tip_chord=0.1395, #TBU - measure on rocket\n",
    "    position=0.314,#TBU - measure on rocket\n",
    "    sweep_length=0.0698, #TBU - measure on rocket\n",
    ")"
   ]
  },
  {
   "cell_type": "markdown",
   "metadata": {},
   "source": [
    "Add Parachutes\n"
   ]
  },
  {
   "cell_type": "code",
   "execution_count": null,
   "metadata": {},
   "outputs": [],
   "source": [
    "drogue = Prometheus_RP.add_parachute(\n",
    "    \"Drogue\",\n",
    "    cd_s=1.6*np.pi*0.3048**2, # Cd = 1.6, D_chute = 24 in\n",
    "    trigger=\"apogee\",\n",
    ")\n",
    "main = Prometheus_RP.add_parachute(\n",
    "    \"Main\",\n",
    "    cd_s=2.2*np.pi*0.9144**2, # Cd = 2.2, D_chute = 72 in\n",
    "    trigger=457.2, # 1500 ft\n",
    ")"
   ]
  },
  {
   "cell_type": "code",
   "execution_count": null,
   "metadata": {},
   "outputs": [],
   "source": [
    "Prometheus_RP.draw()"
   ]
  },
  {
   "cell_type": "code",
   "execution_count": null,
   "metadata": {},
   "outputs": [],
   "source": [
    "Prometheus_RP.info()"
   ]
  },
  {
   "cell_type": "markdown",
   "metadata": {},
   "source": [
    "### Flight\n"
   ]
  },
  {
   "cell_type": "code",
   "execution_count": null,
   "metadata": {},
   "outputs": [],
   "source": [
    "# Flight\n",
    "flight = Flight(\n",
    "    rocket=Prometheus_RP,\n",
    "    environment = env,\n",
    "    rail_length = Prometheus_launch_conditions.L_launch_rail,\n",
    "    inclination = Prometheus_launch_conditions.launch_angle,\n",
    "    terminate_on_apogee=False,\n",
    ")"
   ]
  },
  {
   "cell_type": "code",
   "execution_count": null,
   "metadata": {},
   "outputs": [],
   "source": [
    "flight.info()\n",
    "flight.plots.trajectory_3d()"
   ]
  }
 ],
 "metadata": {
  "kernelspec": {
   "display_name": ".venv",
   "language": "python",
   "name": "python3"
  },
  "language_info": {
   "codemirror_mode": {
    "name": "ipython",
    "version": 3
   },
   "file_extension": ".py",
   "mimetype": "text/x-python",
   "name": "python",
   "nbconvert_exporter": "python",
   "pygments_lexer": "ipython3",
   "version": "3.11.5"
  },
  "orig_nbformat": 4
 },
 "nbformat": 4,
 "nbformat_minor": 2
}
